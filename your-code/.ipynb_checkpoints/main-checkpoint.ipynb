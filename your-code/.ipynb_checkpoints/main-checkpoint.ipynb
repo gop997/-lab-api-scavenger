{
 "cells": [
  {
   "cell_type": "markdown",
   "id": "2eaf369f",
   "metadata": {},
   "source": [
    "### Your lab resolution :"
   ]
  },
  {
   "cell_type": "code",
   "execution_count": 1,
   "id": "6c94489a",
   "metadata": {},
   "outputs": [
    {
     "name": "stdout",
     "output_type": "stream",
     "text": [
      "Requirement already satisfied: requests in /Library/Frameworks/Python.framework/Versions/3.12/lib/python3.12/site-packages (2.31.0)\n",
      "Requirement already satisfied: charset-normalizer<4,>=2 in /Library/Frameworks/Python.framework/Versions/3.12/lib/python3.12/site-packages (from requests) (3.3.2)\n",
      "Requirement already satisfied: idna<4,>=2.5 in /Library/Frameworks/Python.framework/Versions/3.12/lib/python3.12/site-packages (from requests) (3.7)\n",
      "Requirement already satisfied: urllib3<3,>=1.21.1 in /Library/Frameworks/Python.framework/Versions/3.12/lib/python3.12/site-packages (from requests) (1.26.19)\n",
      "Requirement already satisfied: certifi>=2017.4.17 in /Library/Frameworks/Python.framework/Versions/3.12/lib/python3.12/site-packages (from requests) (2024.2.2)\n",
      "\n",
      "\u001b[1m[\u001b[0m\u001b[34;49mnotice\u001b[0m\u001b[1;39;49m]\u001b[0m\u001b[39;49m A new release of pip is available: \u001b[0m\u001b[31;49m24.0\u001b[0m\u001b[39;49m -> \u001b[0m\u001b[32;49m24.2\u001b[0m\n",
      "\u001b[1m[\u001b[0m\u001b[34;49mnotice\u001b[0m\u001b[1;39;49m]\u001b[0m\u001b[39;49m To update, run: \u001b[0m\u001b[32;49mpip3 install --upgrade pip\u001b[0m\n",
      "Note: you may need to restart the kernel to use updated packages.\n"
     ]
    }
   ],
   "source": [
    "pip install requests"
   ]
  },
  {
   "cell_type": "code",
   "execution_count": 2,
   "id": "0dbb793c-de8e-4133-925c-4089fa6849b8",
   "metadata": {},
   "outputs": [],
   "source": [
    "#Libraries\n",
    "import requests\n",
    "from datetime import datetime, timedelta\n"
   ]
  },
  {
   "cell_type": "markdown",
   "id": "36dc2d03-8ccd-495b-9ab3-c9187084d403",
   "metadata": {},
   "source": [
    "### Challenge 1: Fork Languages"
   ]
  },
  {
   "cell_type": "code",
   "execution_count": 4,
   "id": "59c895c0-3348-4a39-b988-a7f86a3f3162",
   "metadata": {},
   "outputs": [
    {
     "name": "stdout",
     "output_type": "stream",
     "text": [
      "['HTML', 'Python', 'Jupyter Notebook']\n"
     ]
    }
   ],
   "source": [
    "# Read authorization token from token.txt\n",
    "with open('token.txt') as f:\n",
    "    token = f.read().strip()  # Strip any extraneous whitespace\n",
    "\n",
    "# Authorization headers\n",
    "headers = {\n",
    "    'Authorization': f'token ' + token,\n",
    "    'Accept': 'application/vnd.github.v3+json'\n",
    "}\n",
    "\n",
    "# Define the repository and the URL for fetching forks\n",
    "owner = \"ironhack-datalabs\"\n",
    "repo = \"bcn-feb-2019\"\n",
    "url = f\"https://api.github.com/repos/{owner}/{repo}/forks\"\n",
    "\n",
    "# Function to get the forks data\n",
    "def get_forks(url, headers):\n",
    "    response = requests.get(url, headers=headers)\n",
    "    response.raise_for_status()  # Raise an error for bad responses\n",
    "    return response.json()\n",
    "\n",
    "# Fetch the forks data\n",
    "forks = get_forks(url, headers)\n",
    "\n",
    "# Initialize a set to store unique programming languages\n",
    "languages = set()\n",
    "\n",
    "# Loop through each fork\n",
    "for fork in forks:\n",
    "    # Get the languages_url for each fork\n",
    "    languages_url = fork['languages_url']\n",
    "    # Get the languages used in each fork\n",
    "    languages_response = requests.get(languages_url, headers=headers)\n",
    "    languages_response.raise_for_status()  # Raise an error for bad responses\n",
    "    # Extract the language data from the response\n",
    "    language_data = languages_response.json()\n",
    "    # Add the languages to the set\n",
    "    languages.update(language_data.keys())\n",
    "\n",
    "# Convert the set to a list\n",
    "language_list = list(languages)\n",
    "\n",
    "# Print the list of programming languages\n",
    "print(language_list)\n"
   ]
  },
  {
   "cell_type": "code",
   "execution_count": 5,
   "id": "f4bacc47-1264-43a5-b008-9e0442f37abb",
   "metadata": {},
   "outputs": [
    {
     "name": "stdout",
     "output_type": "stream",
     "text": [
      "['Jupyter Notebook']\n"
     ]
    }
   ],
   "source": [
    "# Define the repository and the URL for fetching forks\n",
    "owner = \"ironhack-datalabs\"\n",
    "repo = \"bcn-feb-2019\"\n",
    "url = f\"https://api.github.com/repos/{owner}/{repo}/forks\"\n",
    "\n",
    "# Function to get the forks data\n",
    "def get_forks(url, token):\n",
    "    headers = {\"Authorization\": f\"token {token}\"}\n",
    "    response = requests.get(url, headers=headers)\n",
    "    return response.json()\n",
    "\n",
    "\n",
    "# Fetch the forks data\n",
    "forks = get_forks(url, token)\n",
    "\n",
    "# Extract unique languages from forks\n",
    "languages = {fork[\"language\"] for fork in forks if fork[\"language\"]}\n",
    "\n",
    "# Convert the set to a list and print it\n",
    "languages_list = list(languages)\n",
    "print(languages_list)\n"
   ]
  },
  {
   "cell_type": "markdown",
   "id": "096bae36-0d3c-4935-8dbb-a5a92e29992e",
   "metadata": {},
   "source": [
    "### Challenge 2: Count Commits"
   ]
  },
  {
   "cell_type": "code",
   "execution_count": 7,
   "id": "74924eee-fa58-4d79-85c5-cc9574efe001",
   "metadata": {},
   "outputs": [
    {
     "name": "stdout",
     "output_type": "stream",
     "text": [
      "Number of commits in the past 3 weeks: 0\n"
     ]
    }
   ],
   "source": [
    "# Define the repository and the URL for fetching commits\n",
    "owner = \"ta-data-pt-rmt\"\n",
    "repo = \"lab-mysql-first-queries\"\n",
    "url = f\"https://api.github.com/repos/{owner}/{repo}/commits\"\n",
    "\n",
    "# Calculate the date 3 weeks ago\n",
    "three_weeks_ago = datetime.now() - timedelta(weeks=3)\n",
    "since_date = three_weeks_ago.isoformat()\n",
    "\n",
    "# Function to get the commits data\n",
    "def get_commits(url, token, since):\n",
    "    headers = {\"Authorization\": f\"token {token}\"}\n",
    "    params = {\"since\": since}\n",
    "    response = requests.get(url, headers=headers, params=params)\n",
    "    response.raise_for_status()  # Raises an HTTPError for bad responses\n",
    "    return response.json()\n",
    "\n",
    "try:\n",
    "    # Fetch the commits data\n",
    "    commits = get_commits(url, token, since_date)\n",
    "\n",
    "    # Count the number of commits\n",
    "    commit_count = len(commits)\n",
    "    print(f\"Number of commits in the past 3 weeks: {commit_count}\")\n",
    "\n",
    "except requests.exceptions.RequestException as e:\n",
    "    print(f\"An error occurred: {e}\")\n"
   ]
  },
  {
   "cell_type": "code",
   "execution_count": null,
   "id": "4f0af84e-6d52-4028-867b-be7e6f49df89",
   "metadata": {},
   "outputs": [],
   "source": []
  }
 ],
 "metadata": {
  "kernelspec": {
   "display_name": "Python 3 (ipykernel)",
   "language": "python",
   "name": "python3"
  },
  "language_info": {
   "codemirror_mode": {
    "name": "ipython",
    "version": 3
   },
   "file_extension": ".py",
   "mimetype": "text/x-python",
   "name": "python",
   "nbconvert_exporter": "python",
   "pygments_lexer": "ipython3",
   "version": "3.12.3"
  }
 },
 "nbformat": 4,
 "nbformat_minor": 5
}
